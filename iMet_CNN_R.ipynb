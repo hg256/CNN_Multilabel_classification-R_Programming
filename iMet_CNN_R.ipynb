{
 "cells": [
  {
   "cell_type": "markdown",
   "metadata": {
    "button": false,
    "deletable": true,
    "new_sheet": false,
    "run_control": {
     "read_only": false
    }
   },
   "source": [
    "# <center>Final Project : iMet Collection 2020 - Image Classification\n",
    "### <center>Author : Hima Keerthi Garikapati (HG256)"
   ]
  },
  {
   "cell_type": "markdown",
   "metadata": {
    "button": false,
    "deletable": true,
    "new_sheet": false,
    "run_control": {
     "read_only": false
    }
   },
   "source": [
    "***Installing the reticulate python environment to use Keras with tensorflow backend in R Kernel. The reticulate package provides an R interface to Python modules, classes, and functions.***"
   ]
  },
  {
   "cell_type": "code",
   "execution_count": 1,
   "metadata": {
    "button": false,
    "collapsed": true,
    "deletable": true,
    "new_sheet": false,
    "run_control": {
     "read_only": false
    }
   },
   "outputs": [],
   "source": [
    "reticulate::use_condaenv(\"r-reticulate\")\n",
    "# reticulate::virtualenv_install(\"pandas\", envname = \"r-tensorflow\")\n",
    "reticulate::conda_install(\"pandas\", envname = \"r-reticulate\")"
   ]
  },
  {
   "cell_type": "markdown",
   "metadata": {
    "button": false,
    "deletable": true,
    "new_sheet": false,
    "run_control": {
     "read_only": false
    }
   },
   "source": [
    "  ***Installing libraries***"
   ]
  },
  {
   "cell_type": "code",
   "execution_count": 2,
   "metadata": {
    "button": false,
    "collapsed": false,
    "deletable": true,
    "new_sheet": false,
    "run_control": {
     "read_only": false
    }
   },
   "outputs": [
    {
     "name": "stderr",
     "output_type": "stream",
     "text": [
      "Warning message:\n",
      "\"package 'keras' was built under R version 3.6.3\"\n"
     ]
    },
    {
     "name": "stdout",
     "output_type": "stream",
     "text": [
      "\n",
      "Installation complete.\n",
      "\n"
     ]
    }
   ],
   "source": [
    "library(keras)\n",
    "install_keras()"
   ]
  },
  {
   "cell_type": "markdown",
   "metadata": {
    "button": false,
    "deletable": true,
    "new_sheet": false,
    "run_control": {
     "read_only": false
    }
   },
   "source": [
    "***Importing packages***"
   ]
  },
  {
   "cell_type": "code",
   "execution_count": 3,
   "metadata": {
    "_execution_state": "idle",
    "_uuid": "051d70d956493feee0c6d64651c6a088724dca2a",
    "button": false,
    "collapsed": false,
    "deletable": true,
    "new_sheet": false,
    "run_control": {
     "read_only": false
    }
   },
   "outputs": [
    {
     "name": "stderr",
     "output_type": "stream",
     "text": [
      "Warning message:\n",
      "\"package 'tidyverse' was built under R version 3.6.3\"\n",
      "-- \u001b[1mAttaching packages\u001b[22m --------------------------------------- tidyverse 1.3.0 --\n",
      "\n",
      "\u001b[32mv\u001b[39m \u001b[34mggplot2\u001b[39m 3.2.1     \u001b[32mv\u001b[39m \u001b[34mpurrr  \u001b[39m 0.3.3\n",
      "\u001b[32mv\u001b[39m \u001b[34mtibble \u001b[39m 2.1.3     \u001b[32mv\u001b[39m \u001b[34mdplyr  \u001b[39m 0.8.5\n",
      "\u001b[32mv\u001b[39m \u001b[34mtidyr  \u001b[39m 1.0.2     \u001b[32mv\u001b[39m \u001b[34mstringr\u001b[39m 1.4.0\n",
      "\u001b[32mv\u001b[39m \u001b[34mreadr  \u001b[39m 1.3.1     \u001b[32mv\u001b[39m \u001b[34mforcats\u001b[39m 0.5.0\n",
      "\n",
      "Warning message:\n",
      "\"package 'tidyr' was built under R version 3.6.3\"\n",
      "Warning message:\n",
      "\"package 'readr' was built under R version 3.6.3\"\n",
      "Warning message:\n",
      "\"package 'dplyr' was built under R version 3.6.3\"\n",
      "Warning message:\n",
      "\"package 'stringr' was built under R version 3.6.3\"\n",
      "Warning message:\n",
      "\"package 'forcats' was built under R version 3.6.3\"\n",
      "-- \u001b[1mConflicts\u001b[22m ------------------------------------------ tidyverse_conflicts() --\n",
      "\u001b[31mx\u001b[39m \u001b[34mdplyr\u001b[39m::\u001b[32mfilter()\u001b[39m masks \u001b[34mstats\u001b[39m::filter()\n",
      "\u001b[31mx\u001b[39m \u001b[34mdplyr\u001b[39m::\u001b[32mlag()\u001b[39m    masks \u001b[34mstats\u001b[39m::lag()\n",
      "\n",
      "Warning message:\n",
      "\"package 'caret' was built under R version 3.6.3\"\n",
      "Loading required package: lattice\n",
      "\n",
      "\n",
      "Attaching package: 'caret'\n",
      "\n",
      "\n",
      "The following object is masked from 'package:purrr':\n",
      "\n",
      "    lift\n",
      "\n",
      "\n",
      "Warning message:\n",
      "\"package 'imager' was built under R version 3.6.3\"\n",
      "Loading required package: magrittr\n",
      "\n",
      "\n",
      "Attaching package: 'magrittr'\n",
      "\n",
      "\n",
      "The following object is masked from 'package:purrr':\n",
      "\n",
      "    set_names\n",
      "\n",
      "\n",
      "The following object is masked from 'package:tidyr':\n",
      "\n",
      "    extract\n",
      "\n",
      "\n",
      "\n",
      "Attaching package: 'imager'\n",
      "\n",
      "\n",
      "The following object is masked from 'package:magrittr':\n",
      "\n",
      "    add\n",
      "\n",
      "\n",
      "The following object is masked from 'package:stringr':\n",
      "\n",
      "    boundary\n",
      "\n",
      "\n",
      "The following object is masked from 'package:tidyr':\n",
      "\n",
      "    fill\n",
      "\n",
      "\n",
      "The following objects are masked from 'package:stats':\n",
      "\n",
      "    convolve, spectrum\n",
      "\n",
      "\n",
      "The following object is masked from 'package:graphics':\n",
      "\n",
      "    frame\n",
      "\n",
      "\n",
      "The following object is masked from 'package:base':\n",
      "\n",
      "    save.image\n",
      "\n",
      "\n"
     ]
    }
   ],
   "source": [
    "library(tidyverse) # metapackage with lots of helpful functions\n",
    "library(ggplot2)\n",
    "library(caret)\n",
    "library(imager)"
   ]
  },
  {
   "cell_type": "code",
   "execution_count": 4,
   "metadata": {
    "button": false,
    "collapsed": false,
    "deletable": true,
    "new_sheet": false,
    "run_control": {
     "read_only": false
    }
   },
   "outputs": [
    {
     "name": "stderr",
     "output_type": "stream",
     "text": [
      "Warning message:\n",
      "\"package 'tensorflow' was built under R version 3.6.3\"\n",
      "\n",
      "Attaching package: 'tensorflow'\n",
      "\n",
      "\n",
      "The following object is masked from 'package:caret':\n",
      "\n",
      "    train\n",
      "\n",
      "\n"
     ]
    }
   ],
   "source": [
    "library(tensorflow)\n",
    "#install_tensorflow(version = \"gpu\")"
   ]
  },
  {
   "cell_type": "markdown",
   "metadata": {
    "button": false,
    "deletable": true,
    "new_sheet": false,
    "run_control": {
     "read_only": false
    }
   },
   "source": [
    "***Set the working directory to local folder***"
   ]
  },
  {
   "cell_type": "code",
   "execution_count": 5,
   "metadata": {
    "button": false,
    "collapsed": true,
    "deletable": true,
    "new_sheet": false,
    "run_control": {
     "read_only": false
    }
   },
   "outputs": [],
   "source": [
    "setwd(\"C:\\\\Users\\\\himak\\\\Desktop\\\\imet\")"
   ]
  },
  {
   "cell_type": "markdown",
   "metadata": {
    "button": false,
    "deletable": true,
    "new_sheet": false,
    "run_control": {
     "read_only": false
    }
   },
   "source": [
    "***loading the data**"
   ]
  },
  {
   "cell_type": "code",
   "execution_count": 6,
   "metadata": {
    "button": false,
    "collapsed": false,
    "deletable": true,
    "new_sheet": false,
    "run_control": {
     "read_only": false
    }
   },
   "outputs": [
    {
     "data": {
      "text/html": [
       "<table>\n",
       "<caption>A data.frame: 6 × 2</caption>\n",
       "<thead>\n",
       "\t<tr><th></th><th scope=col>id</th><th scope=col>attribute_ids</th></tr>\n",
       "\t<tr><th></th><th scope=col>&lt;fct&gt;</th><th scope=col>&lt;fct&gt;</th></tr>\n",
       "</thead>\n",
       "<tbody>\n",
       "\t<tr><th scope=row>1</th><td>000040d66f14ced4cdd18cd95d91800f</td><td>448 2429 782                         </td></tr>\n",
       "\t<tr><th scope=row>2</th><td>0000ef13e37ef70412166725ec034a8a</td><td>2997 3231 2730 3294 3099 2017 784    </td></tr>\n",
       "\t<tr><th scope=row>3</th><td>0001eeb4a06e8daa7c6951bcd124c3c7</td><td>2436 1715 23                         </td></tr>\n",
       "\t<tr><th scope=row>4</th><td>000226398d224de78b191e6db45fd94e</td><td>2997 3433 448 782                    </td></tr>\n",
       "\t<tr><th scope=row>5</th><td>00029c3b0171158d63b1bbf803a7d750</td><td>3465 3322 3170 1553 781              </td></tr>\n",
       "\t<tr><th scope=row>6</th><td>0002f685f83528cc3c92ba7f01110db5</td><td>2883 3293 3465 3286 448 2635 2088 785</td></tr>\n",
       "</tbody>\n",
       "</table>\n"
      ],
      "text/latex": [
       "A data.frame: 6 × 2\n",
       "\\begin{tabular}{r|ll}\n",
       "  & id & attribute\\_ids\\\\\n",
       "  & <fct> & <fct>\\\\\n",
       "\\hline\n",
       "\t1 & 000040d66f14ced4cdd18cd95d91800f & 448 2429 782                         \\\\\n",
       "\t2 & 0000ef13e37ef70412166725ec034a8a & 2997 3231 2730 3294 3099 2017 784    \\\\\n",
       "\t3 & 0001eeb4a06e8daa7c6951bcd124c3c7 & 2436 1715 23                         \\\\\n",
       "\t4 & 000226398d224de78b191e6db45fd94e & 2997 3433 448 782                    \\\\\n",
       "\t5 & 00029c3b0171158d63b1bbf803a7d750 & 3465 3322 3170 1553 781              \\\\\n",
       "\t6 & 0002f685f83528cc3c92ba7f01110db5 & 2883 3293 3465 3286 448 2635 2088 785\\\\\n",
       "\\end{tabular}\n"
      ],
      "text/markdown": [
       "\n",
       "A data.frame: 6 × 2\n",
       "\n",
       "| <!--/--> | id &lt;fct&gt; | attribute_ids &lt;fct&gt; |\n",
       "|---|---|---|\n",
       "| 1 | 000040d66f14ced4cdd18cd95d91800f | 448 2429 782                          |\n",
       "| 2 | 0000ef13e37ef70412166725ec034a8a | 2997 3231 2730 3294 3099 2017 784     |\n",
       "| 3 | 0001eeb4a06e8daa7c6951bcd124c3c7 | 2436 1715 23                          |\n",
       "| 4 | 000226398d224de78b191e6db45fd94e | 2997 3433 448 782                     |\n",
       "| 5 | 00029c3b0171158d63b1bbf803a7d750 | 3465 3322 3170 1553 781               |\n",
       "| 6 | 0002f685f83528cc3c92ba7f01110db5 | 2883 3293 3465 3286 448 2635 2088 785 |\n",
       "\n"
      ],
      "text/plain": [
       "  id                               attribute_ids                        \n",
       "1 000040d66f14ced4cdd18cd95d91800f 448 2429 782                         \n",
       "2 0000ef13e37ef70412166725ec034a8a 2997 3231 2730 3294 3099 2017 784    \n",
       "3 0001eeb4a06e8daa7c6951bcd124c3c7 2436 1715 23                         \n",
       "4 000226398d224de78b191e6db45fd94e 2997 3433 448 782                    \n",
       "5 00029c3b0171158d63b1bbf803a7d750 3465 3322 3170 1553 781              \n",
       "6 0002f685f83528cc3c92ba7f01110db5 2883 3293 3465 3286 448 2635 2088 785"
      ]
     },
     "metadata": {},
     "output_type": "display_data"
    },
    {
     "data": {
      "text/html": [
       "<table>\n",
       "<caption>A data.frame: 6 × 2</caption>\n",
       "<thead>\n",
       "\t<tr><th></th><th scope=col>id</th><th scope=col>attribute_ids</th></tr>\n",
       "\t<tr><th></th><th scope=col>&lt;fct&gt;</th><th scope=col>&lt;fct&gt;</th></tr>\n",
       "</thead>\n",
       "<tbody>\n",
       "\t<tr><th scope=row>1</th><td>00011f01965f141f5d1eea6592fa9862</td><td>0 1 2</td></tr>\n",
       "\t<tr><th scope=row>2</th><td>00014abc91ed3e4bf1663fde8136fe80</td><td>0 1 2</td></tr>\n",
       "\t<tr><th scope=row>3</th><td>0002e2054e303badc1a33463f6fb7973</td><td>0 1 2</td></tr>\n",
       "\t<tr><th scope=row>4</th><td>0002e8f35f85f28bebfb28f2a627dc4d</td><td>0 1 2</td></tr>\n",
       "\t<tr><th scope=row>5</th><td>00082dfc0de78506f96104bc05eb5a49</td><td>0 1 2</td></tr>\n",
       "\t<tr><th scope=row>6</th><td>000bb8d1f7cb3335a562e464749bb6e1</td><td>0 1 2</td></tr>\n",
       "</tbody>\n",
       "</table>\n"
      ],
      "text/latex": [
       "A data.frame: 6 × 2\n",
       "\\begin{tabular}{r|ll}\n",
       "  & id & attribute\\_ids\\\\\n",
       "  & <fct> & <fct>\\\\\n",
       "\\hline\n",
       "\t1 & 00011f01965f141f5d1eea6592fa9862 & 0 1 2\\\\\n",
       "\t2 & 00014abc91ed3e4bf1663fde8136fe80 & 0 1 2\\\\\n",
       "\t3 & 0002e2054e303badc1a33463f6fb7973 & 0 1 2\\\\\n",
       "\t4 & 0002e8f35f85f28bebfb28f2a627dc4d & 0 1 2\\\\\n",
       "\t5 & 00082dfc0de78506f96104bc05eb5a49 & 0 1 2\\\\\n",
       "\t6 & 000bb8d1f7cb3335a562e464749bb6e1 & 0 1 2\\\\\n",
       "\\end{tabular}\n"
      ],
      "text/markdown": [
       "\n",
       "A data.frame: 6 × 2\n",
       "\n",
       "| <!--/--> | id &lt;fct&gt; | attribute_ids &lt;fct&gt; |\n",
       "|---|---|---|\n",
       "| 1 | 00011f01965f141f5d1eea6592fa9862 | 0 1 2 |\n",
       "| 2 | 00014abc91ed3e4bf1663fde8136fe80 | 0 1 2 |\n",
       "| 3 | 0002e2054e303badc1a33463f6fb7973 | 0 1 2 |\n",
       "| 4 | 0002e8f35f85f28bebfb28f2a627dc4d | 0 1 2 |\n",
       "| 5 | 00082dfc0de78506f96104bc05eb5a49 | 0 1 2 |\n",
       "| 6 | 000bb8d1f7cb3335a562e464749bb6e1 | 0 1 2 |\n",
       "\n"
      ],
      "text/plain": [
       "  id                               attribute_ids\n",
       "1 00011f01965f141f5d1eea6592fa9862 0 1 2        \n",
       "2 00014abc91ed3e4bf1663fde8136fe80 0 1 2        \n",
       "3 0002e2054e303badc1a33463f6fb7973 0 1 2        \n",
       "4 0002e8f35f85f28bebfb28f2a627dc4d 0 1 2        \n",
       "5 00082dfc0de78506f96104bc05eb5a49 0 1 2        \n",
       "6 000bb8d1f7cb3335a562e464749bb6e1 0 1 2        "
      ]
     },
     "metadata": {},
     "output_type": "display_data"
    },
    {
     "data": {
      "text/html": [
       "<table>\n",
       "<caption>A data.frame: 6 × 2</caption>\n",
       "<thead>\n",
       "\t<tr><th></th><th scope=col>attribute_id</th><th scope=col>attribute_name</th></tr>\n",
       "\t<tr><th></th><th scope=col>&lt;int&gt;</th><th scope=col>&lt;fct&gt;</th></tr>\n",
       "</thead>\n",
       "<tbody>\n",
       "\t<tr><th scope=row>1</th><td>0</td><td>country::afghanistan</td></tr>\n",
       "\t<tr><th scope=row>2</th><td>1</td><td>country::alamania   </td></tr>\n",
       "\t<tr><th scope=row>3</th><td>2</td><td>country::algeria    </td></tr>\n",
       "\t<tr><th scope=row>4</th><td>3</td><td>country::arabia     </td></tr>\n",
       "\t<tr><th scope=row>5</th><td>4</td><td>country::armenia    </td></tr>\n",
       "\t<tr><th scope=row>6</th><td>5</td><td>country::austria    </td></tr>\n",
       "</tbody>\n",
       "</table>\n"
      ],
      "text/latex": [
       "A data.frame: 6 × 2\n",
       "\\begin{tabular}{r|ll}\n",
       "  & attribute\\_id & attribute\\_name\\\\\n",
       "  & <int> & <fct>\\\\\n",
       "\\hline\n",
       "\t1 & 0 & country::afghanistan\\\\\n",
       "\t2 & 1 & country::alamania   \\\\\n",
       "\t3 & 2 & country::algeria    \\\\\n",
       "\t4 & 3 & country::arabia     \\\\\n",
       "\t5 & 4 & country::armenia    \\\\\n",
       "\t6 & 5 & country::austria    \\\\\n",
       "\\end{tabular}\n"
      ],
      "text/markdown": [
       "\n",
       "A data.frame: 6 × 2\n",
       "\n",
       "| <!--/--> | attribute_id &lt;int&gt; | attribute_name &lt;fct&gt; |\n",
       "|---|---|---|\n",
       "| 1 | 0 | country::afghanistan |\n",
       "| 2 | 1 | country::alamania    |\n",
       "| 3 | 2 | country::algeria     |\n",
       "| 4 | 3 | country::arabia      |\n",
       "| 5 | 4 | country::armenia     |\n",
       "| 6 | 5 | country::austria     |\n",
       "\n"
      ],
      "text/plain": [
       "  attribute_id attribute_name      \n",
       "1 0            country::afghanistan\n",
       "2 1            country::alamania   \n",
       "3 2            country::algeria    \n",
       "4 3            country::arabia     \n",
       "5 4            country::armenia    \n",
       "6 5            country::austria    "
      ]
     },
     "metadata": {},
     "output_type": "display_data"
    }
   ],
   "source": [
    "labels <- read.csv(\"labels.csv\")\n",
    "train_df <- read.csv(\"train.csv\")\n",
    "test_df<- read.csv(\"sample_submission.csv\")\n",
    "TRAIN_DIR = \"train\" #Folder of train images\n",
    "TEST_DIR = \"test\" # Folder of test images\n",
    "head(train_df)\n",
    "head(test_df)\n",
    "head(labels)"
   ]
  },
  {
   "cell_type": "code",
   "execution_count": 7,
   "metadata": {
    "button": false,
    "collapsed": true,
    "deletable": true,
    "new_sheet": false,
    "run_control": {
     "read_only": false
    }
   },
   "outputs": [],
   "source": [
    "#converting the factor columns to string elements\n",
    "#train_df$id <- as.character(train_df$id)\n",
    "#head(train_df)"
   ]
  },
  {
   "cell_type": "code",
   "execution_count": 8,
   "metadata": {
    "button": false,
    "collapsed": false,
    "deletable": true,
    "new_sheet": false,
    "run_control": {
     "read_only": false
    }
   },
   "outputs": [
    {
     "data": {
      "text/html": [
       "142119"
      ],
      "text/latex": [
       "142119"
      ],
      "text/markdown": [
       "142119"
      ],
      "text/plain": [
       "[1] 142119"
      ]
     },
     "metadata": {},
     "output_type": "display_data"
    },
    {
     "name": "stdout",
     "output_type": "stream",
     "text": [
      " chr [1:142119] \"000040d66f14ced4cdd18cd95d91800f.png\" ...\n"
     ]
    },
    {
     "data": {
      "text/html": [
       "<style>\n",
       ".list-inline {list-style: none; margin:0; padding: 0}\n",
       ".list-inline>li {display: inline-block}\n",
       ".list-inline>li:not(:last-child)::after {content: \"\\00b7\"; padding: 0 .5ex}\n",
       "</style>\n",
       "<ol class=list-inline><li>'000040d66f14ced4cdd18cd95d91800f.png'</li><li>'0000ef13e37ef70412166725ec034a8a.png'</li><li>'0001eeb4a06e8daa7c6951bcd124c3c7.png'</li><li>'000226398d224de78b191e6db45fd94e.png'</li><li>'00029c3b0171158d63b1bbf803a7d750.png'</li><li>'0002f685f83528cc3c92ba7f01110db5.png'</li></ol>\n"
      ],
      "text/latex": [
       "\\begin{enumerate*}\n",
       "\\item '000040d66f14ced4cdd18cd95d91800f.png'\n",
       "\\item '0000ef13e37ef70412166725ec034a8a.png'\n",
       "\\item '0001eeb4a06e8daa7c6951bcd124c3c7.png'\n",
       "\\item '000226398d224de78b191e6db45fd94e.png'\n",
       "\\item '00029c3b0171158d63b1bbf803a7d750.png'\n",
       "\\item '0002f685f83528cc3c92ba7f01110db5.png'\n",
       "\\end{enumerate*}\n"
      ],
      "text/markdown": [
       "1. '000040d66f14ced4cdd18cd95d91800f.png'\n",
       "2. '0000ef13e37ef70412166725ec034a8a.png'\n",
       "3. '0001eeb4a06e8daa7c6951bcd124c3c7.png'\n",
       "4. '000226398d224de78b191e6db45fd94e.png'\n",
       "5. '00029c3b0171158d63b1bbf803a7d750.png'\n",
       "6. '0002f685f83528cc3c92ba7f01110db5.png'\n",
       "\n",
       "\n"
      ],
      "text/plain": [
       "[1] \"000040d66f14ced4cdd18cd95d91800f.png\"\n",
       "[2] \"0000ef13e37ef70412166725ec034a8a.png\"\n",
       "[3] \"0001eeb4a06e8daa7c6951bcd124c3c7.png\"\n",
       "[4] \"000226398d224de78b191e6db45fd94e.png\"\n",
       "[5] \"00029c3b0171158d63b1bbf803a7d750.png\"\n",
       "[6] \"0002f685f83528cc3c92ba7f01110db5.png\""
      ]
     },
     "metadata": {},
     "output_type": "display_data"
    }
   ],
   "source": [
    "train_files <- list.files(TRAIN_DIR) #lists all the images in the train folder\n",
    "length(train_files)\n",
    "str(train_files)\n",
    "head(train_files)\n"
   ]
  },
  {
   "cell_type": "code",
   "execution_count": 9,
   "metadata": {
    "button": false,
    "collapsed": true,
    "deletable": true,
    "new_sheet": false,
    "run_control": {
     "read_only": false
    }
   },
   "outputs": [],
   "source": [
    "##plotting a test image\n",
    "\n",
    "# test_image <- load.image(paste(TRAIN_DIR,train_files[1],sep=''))\n",
    "# plot(test_image)"
   ]
  },
  {
   "cell_type": "markdown",
   "metadata": {
    "button": false,
    "deletable": true,
    "new_sheet": false,
    "run_control": {
     "read_only": false
    }
   },
   "source": [
    "***As the data is huge (train images = 142119), we're only considering a sample of 3001 images for training our model***"
   ]
  },
  {
   "cell_type": "code",
   "execution_count": 10,
   "metadata": {
    "button": false,
    "collapsed": false,
    "deletable": true,
    "new_sheet": false,
    "run_control": {
     "read_only": false
    }
   },
   "outputs": [
    {
     "name": "stdout",
     "output_type": "stream",
     "text": [
      " chr [1:3001] \"f1d5fab7879c7487ce5d8c5e8990a3bb.png\" ...\n"
     ]
    },
    {
     "data": {
      "text/html": [
       "3001"
      ],
      "text/latex": [
       "3001"
      ],
      "text/markdown": [
       "3001"
      ],
      "text/plain": [
       "[1] 3001"
      ]
     },
     "metadata": {},
     "output_type": "display_data"
    }
   ],
   "source": [
    "set.seed(123)\n",
    "#smp_size <- floor(0.025 *length(train_files))\n",
    "smp_size = 3001\n",
    "train_ind <- sample(seq_len(length(train_files)), size = smp_size)\n",
    "training <- train_files[train_ind]\n",
    "str(training)\n",
    "\n",
    "length(TRAIN_DIR[training])"
   ]
  },
  {
   "cell_type": "markdown",
   "metadata": {
    "button": false,
    "deletable": true,
    "new_sheet": false,
    "run_control": {
     "read_only": false
    }
   },
   "source": [
    "***Creating a new folder in the current working directory with a random sample of 3001 train images***"
   ]
  },
  {
   "cell_type": "code",
   "execution_count": 11,
   "metadata": {
    "button": false,
    "collapsed": true,
    "deletable": true,
    "new_sheet": false,
    "run_control": {
     "read_only": false
    }
   },
   "outputs": [],
   "source": [
    "dir.create(\"./train_sample\")\n",
    "file.copy(from = TRAIN_DIR[training], to = \"./train_sample\", recursive = TRUE,\n",
    "         copy.mode = TRUE)"
   ]
  },
  {
   "cell_type": "markdown",
   "metadata": {
    "button": false,
    "deletable": true,
    "new_sheet": false,
    "run_control": {
     "read_only": false
    }
   },
   "source": [
    "***Sampling random test images to predict with size of 500***"
   ]
  },
  {
   "cell_type": "code",
   "execution_count": 12,
   "metadata": {
    "button": false,
    "collapsed": false,
    "deletable": true,
    "new_sheet": false,
    "run_control": {
     "read_only": false
    }
   },
   "outputs": [
    {
     "name": "stdout",
     "output_type": "stream",
     "text": [
      " chr [1:500] \"bb0f7c1b0b1b3aa386786d63fbf173e6.png\" ...\n"
     ]
    },
    {
     "data": {
      "text/html": [
       "500"
      ],
      "text/latex": [
       "500"
      ],
      "text/markdown": [
       "500"
      ],
      "text/plain": [
       "[1] 500"
      ]
     },
     "metadata": {},
     "output_type": "display_data"
    }
   ],
   "source": [
    "set.seed(123)\n",
    "test_files <- list.files(TEST_DIR)\n",
    "smp_size = 500\n",
    "test_ind <- sample(seq_len(length(test_files)), size = smp_size)\n",
    "testing <- test_files[test_ind]\n",
    "str(testing)\n",
    "\n",
    "length(TEST_DIR[testing]) #length of new sampled training images"
   ]
  },
  {
   "cell_type": "markdown",
   "metadata": {
    "button": false,
    "deletable": true,
    "new_sheet": false,
    "run_control": {
     "read_only": false
    }
   },
   "source": [
    "***Creating a new folder for randmized sampled test images of 500***"
   ]
  },
  {
   "cell_type": "code",
   "execution_count": 13,
   "metadata": {
    "button": false,
    "collapsed": true,
    "deletable": true,
    "new_sheet": false,
    "run_control": {
     "read_only": false
    }
   },
   "outputs": [],
   "source": [
    "dir.create(\"./test_sample\")\n",
    "file.copy(from = TEST_DIR[testing], to = \"./test_sample\", recursive = TRUE,\n",
    "         copy.mode = TRUE)"
   ]
  },
  {
   "cell_type": "markdown",
   "metadata": {
    "button": false,
    "deletable": true,
    "new_sheet": false,
    "run_control": {
     "read_only": false
    }
   },
   "source": [
    "***splitting the attribute_ids column into list of lables***"
   ]
  },
  {
   "cell_type": "code",
   "execution_count": 14,
   "metadata": {
    "button": false,
    "collapsed": false,
    "deletable": true,
    "new_sheet": false,
    "run_control": {
     "read_only": false
    }
   },
   "outputs": [
    {
     "data": {
      "text/html": [
       "<table>\n",
       "<caption>A data.frame: 6 × 2</caption>\n",
       "<thead>\n",
       "\t<tr><th></th><th scope=col>id</th><th scope=col>attribute_ids</th></tr>\n",
       "\t<tr><th></th><th scope=col>&lt;fct&gt;</th><th scope=col>&lt;list&gt;</th></tr>\n",
       "</thead>\n",
       "<tbody>\n",
       "\t<tr><th scope=row>1</th><td>000040d66f14ced4cdd18cd95d91800f</td><td>3216, 2663, 2635, 782 </td></tr>\n",
       "\t<tr><th scope=row>2</th><td>0000ef13e37ef70412166725ec034a8a</td><td>3270, 3465, 341 , 2462, 2362, 946 , 784 </td></tr>\n",
       "\t<tr><th scope=row>3</th><td>0001eeb4a06e8daa7c6951bcd124c3c7</td><td>241 , 2054, 1071, 784 , 22  </td></tr>\n",
       "\t<tr><th scope=row>4</th><td>000226398d224de78b191e6db45fd94e</td><td>2741, 617 , 590 , 2429, 1449, 792 , 2572, 1138, 2635, 785 </td></tr>\n",
       "\t<tr><th scope=row>5</th><td>00029c3b0171158d63b1bbf803a7d750</td><td>3465, 3170, 669 , 2670, 785 </td></tr>\n",
       "\t<tr><th scope=row>6</th><td>0002f685f83528cc3c92ba7f01110db5</td><td>370 , 149 , 2493</td></tr>\n",
       "</tbody>\n",
       "</table>\n"
      ],
      "text/latex": [
       "A data.frame: 6 × 2\n",
       "\\begin{tabular}{r|ll}\n",
       "  & id & attribute\\_ids\\\\\n",
       "  & <fct> & <list>\\\\\n",
       "\\hline\n",
       "\t1 & 000040d66f14ced4cdd18cd95d91800f & 3216, 2663, 2635, 782 \\\\\n",
       "\t2 & 0000ef13e37ef70412166725ec034a8a & 3270, 3465, 341 , 2462, 2362, 946 , 784 \\\\\n",
       "\t3 & 0001eeb4a06e8daa7c6951bcd124c3c7 & 241 , 2054, 1071, 784 , 22  \\\\\n",
       "\t4 & 000226398d224de78b191e6db45fd94e & 2741, 617 , 590 , 2429, 1449, 792 , 2572, 1138, 2635, 785 \\\\\n",
       "\t5 & 00029c3b0171158d63b1bbf803a7d750 & 3465, 3170, 669 , 2670, 785 \\\\\n",
       "\t6 & 0002f685f83528cc3c92ba7f01110db5 & 370 , 149 , 2493\\\\\n",
       "\\end{tabular}\n"
      ],
      "text/markdown": [
       "\n",
       "A data.frame: 6 × 2\n",
       "\n",
       "| <!--/--> | id &lt;fct&gt; | attribute_ids &lt;list&gt; |\n",
       "|---|---|---|\n",
       "| 1 | 000040d66f14ced4cdd18cd95d91800f | 3216, 2663, 2635, 782  |\n",
       "| 2 | 0000ef13e37ef70412166725ec034a8a | 3270, 3465, 341 , 2462, 2362, 946 , 784  |\n",
       "| 3 | 0001eeb4a06e8daa7c6951bcd124c3c7 | 241 , 2054, 1071, 784 , 22   |\n",
       "| 4 | 000226398d224de78b191e6db45fd94e | 2741, 617 , 590 , 2429, 1449, 792 , 2572, 1138, 2635, 785  |\n",
       "| 5 | 00029c3b0171158d63b1bbf803a7d750 | 3465, 3170, 669 , 2670, 785  |\n",
       "| 6 | 0002f685f83528cc3c92ba7f01110db5 | 370 , 149 , 2493 |\n",
       "\n"
      ],
      "text/plain": [
       "  id                              \n",
       "1 000040d66f14ced4cdd18cd95d91800f\n",
       "2 0000ef13e37ef70412166725ec034a8a\n",
       "3 0001eeb4a06e8daa7c6951bcd124c3c7\n",
       "4 000226398d224de78b191e6db45fd94e\n",
       "5 00029c3b0171158d63b1bbf803a7d750\n",
       "6 0002f685f83528cc3c92ba7f01110db5\n",
       "  attribute_ids                                             \n",
       "1 3216, 2663, 2635, 782                                     \n",
       "2 3270, 3465, 341 , 2462, 2362, 946 , 784                   \n",
       "3 241 , 2054, 1071, 784 , 22                                \n",
       "4 2741, 617 , 590 , 2429, 1449, 792 , 2572, 1138, 2635, 785 \n",
       "5 3465, 3170, 669 , 2670, 785                               \n",
       "6 370 , 149 , 2493                                          "
      ]
     },
     "metadata": {},
     "output_type": "display_data"
    }
   ],
   "source": [
    "train_df$attribute_ids<-sapply(train_df$attribute_ids,function(x){str_split(train_df$attribute_ids[x], \" \", n=Inf)})\n",
    "head(train_df)"
   ]
  },
  {
   "cell_type": "markdown",
   "metadata": {
    "button": false,
    "deletable": true,
    "new_sheet": false,
    "run_control": {
     "read_only": false
    }
   },
   "source": [
    "***Adding \".png\" at the end of every id in the train and test csv file to map it with the images in the folders***"
   ]
  },
  {
   "cell_type": "code",
   "execution_count": 15,
   "metadata": {
    "button": false,
    "collapsed": false,
    "deletable": true,
    "new_sheet": false,
    "run_control": {
     "read_only": false
    }
   },
   "outputs": [
    {
     "data": {
      "text/html": [
       "<table>\n",
       "<caption>A data.frame: 6 × 2</caption>\n",
       "<thead>\n",
       "\t<tr><th></th><th scope=col>id</th><th scope=col>attribute_ids</th></tr>\n",
       "\t<tr><th></th><th scope=col>&lt;chr&gt;</th><th scope=col>&lt;list&gt;</th></tr>\n",
       "</thead>\n",
       "<tbody>\n",
       "\t<tr><th scope=row>1</th><td>000040d66f14ced4cdd18cd95d91800f.png</td><td>3216, 2663, 2635, 782 </td></tr>\n",
       "\t<tr><th scope=row>2</th><td>0000ef13e37ef70412166725ec034a8a.png</td><td>3270, 3465, 341 , 2462, 2362, 946 , 784 </td></tr>\n",
       "\t<tr><th scope=row>3</th><td>0001eeb4a06e8daa7c6951bcd124c3c7.png</td><td>241 , 2054, 1071, 784 , 22  </td></tr>\n",
       "\t<tr><th scope=row>4</th><td>000226398d224de78b191e6db45fd94e.png</td><td>2741, 617 , 590 , 2429, 1449, 792 , 2572, 1138, 2635, 785 </td></tr>\n",
       "\t<tr><th scope=row>5</th><td>00029c3b0171158d63b1bbf803a7d750.png</td><td>3465, 3170, 669 , 2670, 785 </td></tr>\n",
       "\t<tr><th scope=row>6</th><td>0002f685f83528cc3c92ba7f01110db5.png</td><td>370 , 149 , 2493</td></tr>\n",
       "</tbody>\n",
       "</table>\n"
      ],
      "text/latex": [
       "A data.frame: 6 × 2\n",
       "\\begin{tabular}{r|ll}\n",
       "  & id & attribute\\_ids\\\\\n",
       "  & <chr> & <list>\\\\\n",
       "\\hline\n",
       "\t1 & 000040d66f14ced4cdd18cd95d91800f.png & 3216, 2663, 2635, 782 \\\\\n",
       "\t2 & 0000ef13e37ef70412166725ec034a8a.png & 3270, 3465, 341 , 2462, 2362, 946 , 784 \\\\\n",
       "\t3 & 0001eeb4a06e8daa7c6951bcd124c3c7.png & 241 , 2054, 1071, 784 , 22  \\\\\n",
       "\t4 & 000226398d224de78b191e6db45fd94e.png & 2741, 617 , 590 , 2429, 1449, 792 , 2572, 1138, 2635, 785 \\\\\n",
       "\t5 & 00029c3b0171158d63b1bbf803a7d750.png & 3465, 3170, 669 , 2670, 785 \\\\\n",
       "\t6 & 0002f685f83528cc3c92ba7f01110db5.png & 370 , 149 , 2493\\\\\n",
       "\\end{tabular}\n"
      ],
      "text/markdown": [
       "\n",
       "A data.frame: 6 × 2\n",
       "\n",
       "| <!--/--> | id &lt;chr&gt; | attribute_ids &lt;list&gt; |\n",
       "|---|---|---|\n",
       "| 1 | 000040d66f14ced4cdd18cd95d91800f.png | 3216, 2663, 2635, 782  |\n",
       "| 2 | 0000ef13e37ef70412166725ec034a8a.png | 3270, 3465, 341 , 2462, 2362, 946 , 784  |\n",
       "| 3 | 0001eeb4a06e8daa7c6951bcd124c3c7.png | 241 , 2054, 1071, 784 , 22   |\n",
       "| 4 | 000226398d224de78b191e6db45fd94e.png | 2741, 617 , 590 , 2429, 1449, 792 , 2572, 1138, 2635, 785  |\n",
       "| 5 | 00029c3b0171158d63b1bbf803a7d750.png | 3465, 3170, 669 , 2670, 785  |\n",
       "| 6 | 0002f685f83528cc3c92ba7f01110db5.png | 370 , 149 , 2493 |\n",
       "\n"
      ],
      "text/plain": [
       "  id                                  \n",
       "1 000040d66f14ced4cdd18cd95d91800f.png\n",
       "2 0000ef13e37ef70412166725ec034a8a.png\n",
       "3 0001eeb4a06e8daa7c6951bcd124c3c7.png\n",
       "4 000226398d224de78b191e6db45fd94e.png\n",
       "5 00029c3b0171158d63b1bbf803a7d750.png\n",
       "6 0002f685f83528cc3c92ba7f01110db5.png\n",
       "  attribute_ids                                             \n",
       "1 3216, 2663, 2635, 782                                     \n",
       "2 3270, 3465, 341 , 2462, 2362, 946 , 784                   \n",
       "3 241 , 2054, 1071, 784 , 22                                \n",
       "4 2741, 617 , 590 , 2429, 1449, 792 , 2572, 1138, 2635, 785 \n",
       "5 3465, 3170, 669 , 2670, 785                               \n",
       "6 370 , 149 , 2493                                          "
      ]
     },
     "metadata": {},
     "output_type": "display_data"
    }
   ],
   "source": [
    "train_df$id<-sapply(train_df$id,function(x){paste(train_df$id[x],\".png\",sep =\"\")})\n",
    "head(train_df)"
   ]
  },
  {
   "cell_type": "code",
   "execution_count": 16,
   "metadata": {
    "button": false,
    "collapsed": false,
    "deletable": true,
    "new_sheet": false,
    "run_control": {
     "read_only": false
    }
   },
   "outputs": [
    {
     "data": {
      "text/html": [
       "<table>\n",
       "<caption>A data.frame: 6 × 2</caption>\n",
       "<thead>\n",
       "\t<tr><th></th><th scope=col>id</th><th scope=col>attribute_ids</th></tr>\n",
       "\t<tr><th></th><th scope=col>&lt;chr&gt;</th><th scope=col>&lt;fct&gt;</th></tr>\n",
       "</thead>\n",
       "<tbody>\n",
       "\t<tr><th scope=row>1</th><td>00011f01965f141f5d1eea6592fa9862.png</td><td>0 1 2</td></tr>\n",
       "\t<tr><th scope=row>2</th><td>00014abc91ed3e4bf1663fde8136fe80.png</td><td>0 1 2</td></tr>\n",
       "\t<tr><th scope=row>3</th><td>0002e2054e303badc1a33463f6fb7973.png</td><td>0 1 2</td></tr>\n",
       "\t<tr><th scope=row>4</th><td>0002e8f35f85f28bebfb28f2a627dc4d.png</td><td>0 1 2</td></tr>\n",
       "\t<tr><th scope=row>5</th><td>00082dfc0de78506f96104bc05eb5a49.png</td><td>0 1 2</td></tr>\n",
       "\t<tr><th scope=row>6</th><td>000bb8d1f7cb3335a562e464749bb6e1.png</td><td>0 1 2</td></tr>\n",
       "</tbody>\n",
       "</table>\n"
      ],
      "text/latex": [
       "A data.frame: 6 × 2\n",
       "\\begin{tabular}{r|ll}\n",
       "  & id & attribute\\_ids\\\\\n",
       "  & <chr> & <fct>\\\\\n",
       "\\hline\n",
       "\t1 & 00011f01965f141f5d1eea6592fa9862.png & 0 1 2\\\\\n",
       "\t2 & 00014abc91ed3e4bf1663fde8136fe80.png & 0 1 2\\\\\n",
       "\t3 & 0002e2054e303badc1a33463f6fb7973.png & 0 1 2\\\\\n",
       "\t4 & 0002e8f35f85f28bebfb28f2a627dc4d.png & 0 1 2\\\\\n",
       "\t5 & 00082dfc0de78506f96104bc05eb5a49.png & 0 1 2\\\\\n",
       "\t6 & 000bb8d1f7cb3335a562e464749bb6e1.png & 0 1 2\\\\\n",
       "\\end{tabular}\n"
      ],
      "text/markdown": [
       "\n",
       "A data.frame: 6 × 2\n",
       "\n",
       "| <!--/--> | id &lt;chr&gt; | attribute_ids &lt;fct&gt; |\n",
       "|---|---|---|\n",
       "| 1 | 00011f01965f141f5d1eea6592fa9862.png | 0 1 2 |\n",
       "| 2 | 00014abc91ed3e4bf1663fde8136fe80.png | 0 1 2 |\n",
       "| 3 | 0002e2054e303badc1a33463f6fb7973.png | 0 1 2 |\n",
       "| 4 | 0002e8f35f85f28bebfb28f2a627dc4d.png | 0 1 2 |\n",
       "| 5 | 00082dfc0de78506f96104bc05eb5a49.png | 0 1 2 |\n",
       "| 6 | 000bb8d1f7cb3335a562e464749bb6e1.png | 0 1 2 |\n",
       "\n"
      ],
      "text/plain": [
       "  id                                   attribute_ids\n",
       "1 00011f01965f141f5d1eea6592fa9862.png 0 1 2        \n",
       "2 00014abc91ed3e4bf1663fde8136fe80.png 0 1 2        \n",
       "3 0002e2054e303badc1a33463f6fb7973.png 0 1 2        \n",
       "4 0002e8f35f85f28bebfb28f2a627dc4d.png 0 1 2        \n",
       "5 00082dfc0de78506f96104bc05eb5a49.png 0 1 2        \n",
       "6 000bb8d1f7cb3335a562e464749bb6e1.png 0 1 2        "
      ]
     },
     "metadata": {},
     "output_type": "display_data"
    },
    {
     "data": {
      "text/plain": [
       "NULL"
      ]
     },
     "metadata": {},
     "output_type": "display_data"
    }
   ],
   "source": [
    "test_df$id<-sapply(test_df$id,function(x){paste(test_df$id[x],\".png\",sep =\"\")})\n",
    "head(test_df)\n",
    "nrow(test_df$id)"
   ]
  },
  {
   "cell_type": "markdown",
   "metadata": {
    "button": false,
    "deletable": true,
    "new_sheet": false,
    "run_control": {
     "read_only": false
    }
   },
   "source": [
    "***Sampling the train and test cvs files which only match with the sampled images in train and test folders respectively***"
   ]
  },
  {
   "cell_type": "code",
   "execution_count": 17,
   "metadata": {
    "button": false,
    "collapsed": false,
    "deletable": true,
    "new_sheet": false,
    "run_control": {
     "read_only": false
    }
   },
   "outputs": [
    {
     "data": {
      "text/html": [
       "3001"
      ],
      "text/latex": [
       "3001"
      ],
      "text/markdown": [
       "3001"
      ],
      "text/plain": [
       "[1] 3001"
      ]
     },
     "metadata": {},
     "output_type": "display_data"
    },
    {
     "name": "stdout",
     "output_type": "stream",
     "text": [
      " chr [1:3001] \"0000ef13e37ef70412166725ec034a8a.png\" ...\n"
     ]
    },
    {
     "data": {
      "text/html": [
       "<table>\n",
       "<caption>A data.frame: 6 × 1</caption>\n",
       "<thead>\n",
       "\t<tr><th></th><th scope=col>id</th></tr>\n",
       "\t<tr><th></th><th scope=col>&lt;fct&gt;</th></tr>\n",
       "</thead>\n",
       "<tbody>\n",
       "\t<tr><th scope=row>1</th><td>0000ef13e37ef70412166725ec034a8a.png</td></tr>\n",
       "\t<tr><th scope=row>2</th><td>000a29222fe555d01844c73012af16d6.png</td></tr>\n",
       "\t<tr><th scope=row>3</th><td>000a2f1a6de7dacf07c51c83618d20d5.png</td></tr>\n",
       "\t<tr><th scope=row>4</th><td>000ab73d289605124c37c2d5a4b2cd2f.png</td></tr>\n",
       "\t<tr><th scope=row>5</th><td>000aba2128c05407db8ff461fe8bc0f8.png</td></tr>\n",
       "\t<tr><th scope=row>6</th><td>000ac5bbc6beca6f82ee7467975995ec.png</td></tr>\n",
       "</tbody>\n",
       "</table>\n"
      ],
      "text/latex": [
       "A data.frame: 6 × 1\n",
       "\\begin{tabular}{r|l}\n",
       "  & id\\\\\n",
       "  & <fct>\\\\\n",
       "\\hline\n",
       "\t1 & 0000ef13e37ef70412166725ec034a8a.png\\\\\n",
       "\t2 & 000a29222fe555d01844c73012af16d6.png\\\\\n",
       "\t3 & 000a2f1a6de7dacf07c51c83618d20d5.png\\\\\n",
       "\t4 & 000ab73d289605124c37c2d5a4b2cd2f.png\\\\\n",
       "\t5 & 000aba2128c05407db8ff461fe8bc0f8.png\\\\\n",
       "\t6 & 000ac5bbc6beca6f82ee7467975995ec.png\\\\\n",
       "\\end{tabular}\n"
      ],
      "text/markdown": [
       "\n",
       "A data.frame: 6 × 1\n",
       "\n",
       "| <!--/--> | id &lt;fct&gt; |\n",
       "|---|---|\n",
       "| 1 | 0000ef13e37ef70412166725ec034a8a.png |\n",
       "| 2 | 000a29222fe555d01844c73012af16d6.png |\n",
       "| 3 | 000a2f1a6de7dacf07c51c83618d20d5.png |\n",
       "| 4 | 000ab73d289605124c37c2d5a4b2cd2f.png |\n",
       "| 5 | 000aba2128c05407db8ff461fe8bc0f8.png |\n",
       "| 6 | 000ac5bbc6beca6f82ee7467975995ec.png |\n",
       "\n"
      ],
      "text/plain": [
       "  id                                  \n",
       "1 0000ef13e37ef70412166725ec034a8a.png\n",
       "2 000a29222fe555d01844c73012af16d6.png\n",
       "3 000a2f1a6de7dacf07c51c83618d20d5.png\n",
       "4 000ab73d289605124c37c2d5a4b2cd2f.png\n",
       "5 000aba2128c05407db8ff461fe8bc0f8.png\n",
       "6 000ac5bbc6beca6f82ee7467975995ec.png"
      ]
     },
     "metadata": {},
     "output_type": "display_data"
    }
   ],
   "source": [
    "#sample <- as.data.frame(train_df$id[train_df$id %in% new_list])\n",
    "\n",
    "new_list = train_df$id[train_df$id %in% list.files(train_sample)]\n",
    "length(new_list)\n",
    "str(new_list)\n",
    "sample <- as.data.frame(new_list)\n",
    "colnames(sample) = \"id\"\n",
    "head(sample)"
   ]
  },
  {
   "cell_type": "code",
   "execution_count": 18,
   "metadata": {
    "button": false,
    "collapsed": false,
    "deletable": true,
    "new_sheet": false,
    "run_control": {
     "read_only": false
    }
   },
   "outputs": [
    {
     "data": {
      "text/html": [
       "<style>\n",
       ".list-inline {list-style: none; margin:0; padding: 0}\n",
       ".list-inline>li {display: inline-block}\n",
       ".list-inline>li:not(:last-child)::after {content: \"\\00b7\"; padding: 0 .5ex}\n",
       "</style>\n",
       "<ol class=list-inline><li>3001</li><li>2</li></ol>\n"
      ],
      "text/latex": [
       "\\begin{enumerate*}\n",
       "\\item 3001\n",
       "\\item 2\n",
       "\\end{enumerate*}\n"
      ],
      "text/markdown": [
       "1. 3001\n",
       "2. 2\n",
       "\n",
       "\n"
      ],
      "text/plain": [
       "[1] 3001    2"
      ]
     },
     "metadata": {},
     "output_type": "display_data"
    },
    {
     "data": {
      "text/html": [
       "<table>\n",
       "<caption>A data.frame: 6 × 2</caption>\n",
       "<thead>\n",
       "\t<tr><th></th><th scope=col>id</th><th scope=col>attribute_ids</th></tr>\n",
       "\t<tr><th></th><th scope=col>&lt;fct&gt;</th><th scope=col>&lt;list&gt;</th></tr>\n",
       "</thead>\n",
       "<tbody>\n",
       "\t<tr><th scope=row>1</th><td>0000ef13e37ef70412166725ec034a8a.png</td><td>3270, 3465, 341 , 2462, 2362, 946 , 784 </td></tr>\n",
       "\t<tr><th scope=row>2</th><td>000a29222fe555d01844c73012af16d6.png</td><td>305</td></tr>\n",
       "\t<tr><th scope=row>3</th><td>000a2f1a6de7dacf07c51c83618d20d5.png</td><td>2757, 3263, 3026, 2791, 800 , 784 </td></tr>\n",
       "\t<tr><th scope=row>4</th><td>000ab73d289605124c37c2d5a4b2cd2f.png</td><td>2941, 233 , 2303, 2299, 783 </td></tr>\n",
       "\t<tr><th scope=row>5</th><td>000aba2128c05407db8ff461fe8bc0f8.png</td><td>3311, 378 , 2087, 2362, 1414, 2635, 1419, 60  , 37  </td></tr>\n",
       "\t<tr><th scope=row>6</th><td>000ac5bbc6beca6f82ee7467975995ec.png</td><td>3412, 1776, 1345, 2436, 2054, 924 , 1030, 1022, 2291, 2635, 785 , 73  </td></tr>\n",
       "</tbody>\n",
       "</table>\n"
      ],
      "text/latex": [
       "A data.frame: 6 × 2\n",
       "\\begin{tabular}{r|ll}\n",
       "  & id & attribute\\_ids\\\\\n",
       "  & <fct> & <list>\\\\\n",
       "\\hline\n",
       "\t1 & 0000ef13e37ef70412166725ec034a8a.png & 3270, 3465, 341 , 2462, 2362, 946 , 784 \\\\\n",
       "\t2 & 000a29222fe555d01844c73012af16d6.png & 305\\\\\n",
       "\t3 & 000a2f1a6de7dacf07c51c83618d20d5.png & 2757, 3263, 3026, 2791, 800 , 784 \\\\\n",
       "\t4 & 000ab73d289605124c37c2d5a4b2cd2f.png & 2941, 233 , 2303, 2299, 783 \\\\\n",
       "\t5 & 000aba2128c05407db8ff461fe8bc0f8.png & 3311, 378 , 2087, 2362, 1414, 2635, 1419, 60  , 37  \\\\\n",
       "\t6 & 000ac5bbc6beca6f82ee7467975995ec.png & 3412, 1776, 1345, 2436, 2054, 924 , 1030, 1022, 2291, 2635, 785 , 73  \\\\\n",
       "\\end{tabular}\n"
      ],
      "text/markdown": [
       "\n",
       "A data.frame: 6 × 2\n",
       "\n",
       "| <!--/--> | id &lt;fct&gt; | attribute_ids &lt;list&gt; |\n",
       "|---|---|---|\n",
       "| 1 | 0000ef13e37ef70412166725ec034a8a.png | 3270, 3465, 341 , 2462, 2362, 946 , 784  |\n",
       "| 2 | 000a29222fe555d01844c73012af16d6.png | 305 |\n",
       "| 3 | 000a2f1a6de7dacf07c51c83618d20d5.png | 2757, 3263, 3026, 2791, 800 , 784  |\n",
       "| 4 | 000ab73d289605124c37c2d5a4b2cd2f.png | 2941, 233 , 2303, 2299, 783  |\n",
       "| 5 | 000aba2128c05407db8ff461fe8bc0f8.png | 3311, 378 , 2087, 2362, 1414, 2635, 1419, 60  , 37   |\n",
       "| 6 | 000ac5bbc6beca6f82ee7467975995ec.png | 3412, 1776, 1345, 2436, 2054, 924 , 1030, 1022, 2291, 2635, 785 , 73   |\n",
       "\n"
      ],
      "text/plain": [
       "  id                                  \n",
       "1 0000ef13e37ef70412166725ec034a8a.png\n",
       "2 000a29222fe555d01844c73012af16d6.png\n",
       "3 000a2f1a6de7dacf07c51c83618d20d5.png\n",
       "4 000ab73d289605124c37c2d5a4b2cd2f.png\n",
       "5 000aba2128c05407db8ff461fe8bc0f8.png\n",
       "6 000ac5bbc6beca6f82ee7467975995ec.png\n",
       "  attribute_ids                                                         \n",
       "1 3270, 3465, 341 , 2462, 2362, 946 , 784                               \n",
       "2 305                                                                   \n",
       "3 2757, 3263, 3026, 2791, 800 , 784                                     \n",
       "4 2941, 233 , 2303, 2299, 783                                           \n",
       "5 3311, 378 , 2087, 2362, 1414, 2635, 1419, 60  , 37                    \n",
       "6 3412, 1776, 1345, 2436, 2054, 924 , 1030, 1022, 2291, 2635, 785 , 73  "
      ]
     },
     "metadata": {},
     "output_type": "display_data"
    }
   ],
   "source": [
    "train_sample_csv <- merge(sample, train_df, by = \"id\", all.x = TRUE)\n",
    "dim(train_sample_csv)\n",
    "head(train_sample_csv)"
   ]
  },
  {
   "cell_type": "code",
   "execution_count": 19,
   "metadata": {
    "button": false,
    "collapsed": false,
    "deletable": true,
    "new_sheet": false,
    "run_control": {
     "read_only": false
    }
   },
   "outputs": [
    {
     "data": {
      "text/html": [
       "<table>\n",
       "<caption>A data.frame: 6 × 2</caption>\n",
       "<thead>\n",
       "\t<tr><th></th><th scope=col>id</th><th scope=col>attribute_ids</th></tr>\n",
       "\t<tr><th></th><th scope=col>&lt;fct&gt;</th><th scope=col>&lt;fct&gt;</th></tr>\n",
       "</thead>\n",
       "<tbody>\n",
       "\t<tr><th scope=row>1</th><td>000bb8d1f7cb3335a562e464749bb6e1.png</td><td>0 1 2</td></tr>\n",
       "\t<tr><th scope=row>2</th><td>000bb98f62b3ee4995b64c5363d00fc8.png</td><td>0 1 2</td></tr>\n",
       "\t<tr><th scope=row>3</th><td>00a791a8e350c93c8bc5132a6e68182b.png</td><td>0 1 2</td></tr>\n",
       "\t<tr><th scope=row>4</th><td>00a7e8100bb59943709873bd7a48c092.png</td><td>0 1 2</td></tr>\n",
       "\t<tr><th scope=row>5</th><td>00a81c3617800738acd5bce95ad39008.png</td><td>0 1 2</td></tr>\n",
       "\t<tr><th scope=row>6</th><td>00a937ce09eeddb596c21166643779f4.png</td><td>0 1 2</td></tr>\n",
       "</tbody>\n",
       "</table>\n"
      ],
      "text/latex": [
       "A data.frame: 6 × 2\n",
       "\\begin{tabular}{r|ll}\n",
       "  & id & attribute\\_ids\\\\\n",
       "  & <fct> & <fct>\\\\\n",
       "\\hline\n",
       "\t1 & 000bb8d1f7cb3335a562e464749bb6e1.png & 0 1 2\\\\\n",
       "\t2 & 000bb98f62b3ee4995b64c5363d00fc8.png & 0 1 2\\\\\n",
       "\t3 & 00a791a8e350c93c8bc5132a6e68182b.png & 0 1 2\\\\\n",
       "\t4 & 00a7e8100bb59943709873bd7a48c092.png & 0 1 2\\\\\n",
       "\t5 & 00a81c3617800738acd5bce95ad39008.png & 0 1 2\\\\\n",
       "\t6 & 00a937ce09eeddb596c21166643779f4.png & 0 1 2\\\\\n",
       "\\end{tabular}\n"
      ],
      "text/markdown": [
       "\n",
       "A data.frame: 6 × 2\n",
       "\n",
       "| <!--/--> | id &lt;fct&gt; | attribute_ids &lt;fct&gt; |\n",
       "|---|---|---|\n",
       "| 1 | 000bb8d1f7cb3335a562e464749bb6e1.png | 0 1 2 |\n",
       "| 2 | 000bb98f62b3ee4995b64c5363d00fc8.png | 0 1 2 |\n",
       "| 3 | 00a791a8e350c93c8bc5132a6e68182b.png | 0 1 2 |\n",
       "| 4 | 00a7e8100bb59943709873bd7a48c092.png | 0 1 2 |\n",
       "| 5 | 00a81c3617800738acd5bce95ad39008.png | 0 1 2 |\n",
       "| 6 | 00a937ce09eeddb596c21166643779f4.png | 0 1 2 |\n",
       "\n"
      ],
      "text/plain": [
       "  id                                   attribute_ids\n",
       "1 000bb8d1f7cb3335a562e464749bb6e1.png 0 1 2        \n",
       "2 000bb98f62b3ee4995b64c5363d00fc8.png 0 1 2        \n",
       "3 00a791a8e350c93c8bc5132a6e68182b.png 0 1 2        \n",
       "4 00a7e8100bb59943709873bd7a48c092.png 0 1 2        \n",
       "5 00a81c3617800738acd5bce95ad39008.png 0 1 2        \n",
       "6 00a937ce09eeddb596c21166643779f4.png 0 1 2        "
      ]
     },
     "metadata": {},
     "output_type": "display_data"
    },
    {
     "data": {
      "text/html": [
       "<style>\n",
       ".list-inline {list-style: none; margin:0; padding: 0}\n",
       ".list-inline>li {display: inline-block}\n",
       ".list-inline>li:not(:last-child)::after {content: \"\\00b7\"; padding: 0 .5ex}\n",
       "</style>\n",
       "<ol class=list-inline><li>500</li><li>2</li></ol>\n"
      ],
      "text/latex": [
       "\\begin{enumerate*}\n",
       "\\item 500\n",
       "\\item 2\n",
       "\\end{enumerate*}\n"
      ],
      "text/markdown": [
       "1. 500\n",
       "2. 2\n",
       "\n",
       "\n"
      ],
      "text/plain": [
       "[1] 500   2"
      ]
     },
     "metadata": {},
     "output_type": "display_data"
    }
   ],
   "source": [
    "new_list_test = test_df$id[test_df$id %in% list.files(test_sample)]\n",
    "sample_test <- as.data.frame(new_list_test)\n",
    "colnames(sample_test) = \"id\"\n",
    "test_sample_csv <- merge(sample_test, test_df, by = \"id\", all.x = TRUE)\n",
    "head(test_sample_csv)\n",
    "dim(test_sample_csv)"
   ]
  },
  {
   "cell_type": "markdown",
   "metadata": {
    "button": false,
    "deletable": true,
    "new_sheet": false,
    "run_control": {
     "read_only": false
    }
   },
   "source": [
    "***We perform a data normalization to reduce the effect of differences in the size of the images.***"
   ]
  },
  {
   "cell_type": "code",
   "execution_count": 20,
   "metadata": {
    "button": false,
    "collapsed": true,
    "deletable": true,
    "new_sheet": false,
    "run_control": {
     "read_only": false
    }
   },
   "outputs": [],
   "source": [
    "train_data_gen = image_data_generator(rescale = 1/255,validation_split=0.1)\n",
    "\n",
    "test_data_gen <- image_data_generator(rescale = 1/255)"
   ]
  },
  {
   "cell_type": "code",
   "execution_count": 32,
   "metadata": {
    "button": false,
    "collapsed": true,
    "deletable": true,
    "new_sheet": false,
    "run_control": {
     "read_only": false
    }
   },
   "outputs": [],
   "source": [
    "# define batch size and number of epochs\n",
    "batch_size <- 64\n",
    "epochs <- 15\n",
    "img_size <- 128"
   ]
  },
  {
   "cell_type": "markdown",
   "metadata": {
    "button": false,
    "deletable": true,
    "new_sheet": false,
    "run_control": {
     "read_only": false
    }
   },
   "source": [
    "***Calculating the number of unique labels from the sampled training data***"
   ]
  },
  {
   "cell_type": "code",
   "execution_count": 22,
   "metadata": {
    "button": false,
    "collapsed": false,
    "deletable": true,
    "new_sheet": false,
    "run_control": {
     "read_only": false
    }
   },
   "outputs": [
    {
     "data": {
      "text/html": [
       "1266"
      ],
      "text/latex": [
       "1266"
      ],
      "text/markdown": [
       "1266"
      ],
      "text/plain": [
       "[1] 1266"
      ]
     },
     "metadata": {},
     "output_type": "display_data"
    },
    {
     "name": "stdout",
     "output_type": "stream",
     "text": [
      " int 1266\n"
     ]
    }
   ],
   "source": [
    "classes_n <- length(unique(unlist(train_sample_csv$attribute_ids,use.names = FALSE)))\n",
    "head(classes_n)\n",
    "str(classes_n)"
   ]
  },
  {
   "cell_type": "markdown",
   "metadata": {
    "button": false,
    "deletable": true,
    "new_sheet": false,
    "run_control": {
     "read_only": false
    }
   },
   "source": [
    "***Image data augmentation***\n",
    "<br /> \n",
    "<br /> \n",
    "*An iterator is created for an image dataset located on disk in a specified directory, where images in that directory are organized into subdirectories according to their class*\n",
    "<br />\n",
    "<br /> \n",
    "*Splitting the training images into training and validation set where 0.9% of images are trained while 0.1% images are validated*"
   ]
  },
  {
   "cell_type": "code",
   "execution_count": 23,
   "metadata": {
    "button": false,
    "collapsed": true,
    "deletable": true,
    "new_sheet": false,
    "run_control": {
     "read_only": false
    }
   },
   "outputs": [],
   "source": [
    "#Training images\n",
    "\n",
    "train_image_array_gen <- flow_images_from_dataframe(dataframe = train_sample_csv, directory = train_sample,\n",
    "                                                      x_col = \"id\", y_col = \"attribute_ids\",\n",
    "                                                      generator = train_data_gen, target_size = c(128, 128),seed=123,\n",
    "                                                      color_mode = \"rgb\", classes = NULL, class_mode = \"categorical\",\n",
    "                                                      batch_size = batch_size, subset ='training')\n",
    "\n",
    "valid_image_array_gen <- flow_images_from_dataframe(dataframe=train_sample_csv,\n",
    "                                            directory=train_sample, generator = train_data_gen,\n",
    "                                            x_col=\"id\", y_col = \"attribute_ids\",seed =123,\n",
    "                                            batch_size=batch_size,\n",
    "                                                    shuffle= TRUE,\n",
    "                                            class_mode=\"categorical\",\n",
    "                                            target_size=c(128,128),subset='validation')"
   ]
  },
  {
   "cell_type": "code",
   "execution_count": 24,
   "metadata": {
    "button": false,
    "collapsed": true,
    "deletable": true,
    "new_sheet": false,
    "run_control": {
     "read_only": false
    }
   },
   "outputs": [],
   "source": [
    "#Test\n",
    "test_image_array_gen <- flow_images_from_dataframe(directory = test_sample, dataframe = test_sample_csv,x_col=\"id\",\n",
    "                                                      generator = test_data_gen , target_size = c(128, 128), seed=123,\n",
    "                                                      color_mode = \"rgb\",class_mode = NULL,batch_size = 1,\n",
    "                                                      shuffle = FALSE )"
   ]
  },
  {
   "cell_type": "code",
   "execution_count": 25,
   "metadata": {
    "button": false,
    "collapsed": false,
    "deletable": true,
    "new_sheet": false,
    "run_control": {
     "read_only": false
    }
   },
   "outputs": [
    {
     "data": {
      "text/plain": [
       "\n",
       " 0  1  2  3  4  5 \n",
       " 2 21  2  1  5  1 "
      ]
     },
     "metadata": {},
     "output_type": "display_data"
    },
    {
     "data": {
      "text/html": [
       "1204"
      ],
      "text/latex": [
       "1204"
      ],
      "text/markdown": [
       "1204"
      ],
      "text/plain": [
       "[1] 1204"
      ]
     },
     "metadata": {},
     "output_type": "display_data"
    }
   ],
   "source": [
    "head(table(factor(unlist(train_image_array_gen$classes))))\n",
    "output_n <- length(unique(factor(unlist(train_image_array_gen$classes))))\n",
    "output_n"
   ]
  },
  {
   "cell_type": "code",
   "execution_count": 26,
   "metadata": {
    "button": false,
    "collapsed": false,
    "deletable": true,
    "new_sheet": false,
    "run_control": {
     "read_only": false
    }
   },
   "outputs": [
    {
     "data": {
      "text/html": [
       "400"
      ],
      "text/latex": [
       "400"
      ],
      "text/markdown": [
       "400"
      ],
      "text/plain": [
       "[1] 400"
      ]
     },
     "metadata": {},
     "output_type": "display_data"
    }
   ],
   "source": [
    "output_v <- length(unique(factor(unlist(valid_image_array_gen$classes))))\n",
    "output_v"
   ]
  },
  {
   "cell_type": "code",
   "execution_count": 27,
   "metadata": {
    "button": false,
    "collapsed": false,
    "deletable": true,
    "new_sheet": false,
    "run_control": {
     "read_only": false
    }
   },
   "outputs": [
    {
     "data": {
      "text/html": [
       "<ol>\n",
       "\t<li><style>\n",
       ".list-inline {list-style: none; margin:0; padding: 0}\n",
       ".list-inline>li {display: inline-block}\n",
       ".list-inline>li:not(:last-child)::after {content: \"\\00b7\"; padding: 0 .5ex}\n",
       "</style>\n",
       "<ol class=list-inline><li>916</li><li>1042</li><li>1006</li><li>474</li><li>444</li><li>1251</li><li>1201</li></ol>\n",
       "</li>\n",
       "\t<li>785</li>\n",
       "\t<li><style>\n",
       ".list-inline {list-style: none; margin:0; padding: 0}\n",
       ".list-inline>li {display: inline-block}\n",
       ".list-inline>li:not(:last-child)::after {content: \"\\00b7\"; padding: 0 .5ex}\n",
       "</style>\n",
       "<ol class=list-inline><li>588</li><li>911</li><li>774</li><li>609</li><li>1206</li><li>1201</li></ol>\n",
       "</li>\n",
       "\t<li><style>\n",
       ".list-inline {list-style: none; margin:0; padding: 0}\n",
       ".list-inline>li {display: inline-block}\n",
       ".list-inline>li:not(:last-child)::after {content: \"\\00b7\"; padding: 0 .5ex}\n",
       "</style>\n",
       "<ol class=list-inline><li>724</li><li>437</li><li>427</li><li>425</li><li>1200</li></ol>\n",
       "</li>\n",
       "\t<li><style>\n",
       ".list-inline {list-style: none; margin:0; padding: 0}\n",
       ".list-inline>li {display: inline-block}\n",
       ".list-inline>li:not(:last-child)::after {content: \"\\00b7\"; padding: 0 .5ex}\n",
       "</style>\n",
       "<ol class=list-inline><li>942</li><li>1061</li><li>364</li><li>444</li><li>132</li><li>536</li><li>133</li><li>1137</li><li>1057</li></ol>\n",
       "</li>\n",
       "\t<li><style>\n",
       ".list-inline {list-style: none; margin:0; padding: 0}\n",
       ".list-inline>li {display: inline-block}\n",
       ".list-inline>li:not(:last-child)::after {content: \"\\00b7\"; padding: 0 .5ex}\n",
       "</style>\n",
       "<ol class=list-inline><li>1009</li><li>267</li><li>115</li><li>464</li><li>353</li><li>1243</li><li>8</li><li>7</li><li>424</li><li>536</li><li>1202</li><li>1184</li></ol>\n",
       "</li>\n",
       "</ol>\n"
      ],
      "text/latex": [
       "\\begin{enumerate}\n",
       "\\item \\begin{enumerate*}\n",
       "\\item 916\n",
       "\\item 1042\n",
       "\\item 1006\n",
       "\\item 474\n",
       "\\item 444\n",
       "\\item 1251\n",
       "\\item 1201\n",
       "\\end{enumerate*}\n",
       "\n",
       "\\item 785\n",
       "\\item \\begin{enumerate*}\n",
       "\\item 588\n",
       "\\item 911\n",
       "\\item 774\n",
       "\\item 609\n",
       "\\item 1206\n",
       "\\item 1201\n",
       "\\end{enumerate*}\n",
       "\n",
       "\\item \\begin{enumerate*}\n",
       "\\item 724\n",
       "\\item 437\n",
       "\\item 427\n",
       "\\item 425\n",
       "\\item 1200\n",
       "\\end{enumerate*}\n",
       "\n",
       "\\item \\begin{enumerate*}\n",
       "\\item 942\n",
       "\\item 1061\n",
       "\\item 364\n",
       "\\item 444\n",
       "\\item 132\n",
       "\\item 536\n",
       "\\item 133\n",
       "\\item 1137\n",
       "\\item 1057\n",
       "\\end{enumerate*}\n",
       "\n",
       "\\item \\begin{enumerate*}\n",
       "\\item 1009\n",
       "\\item 267\n",
       "\\item 115\n",
       "\\item 464\n",
       "\\item 353\n",
       "\\item 1243\n",
       "\\item 8\n",
       "\\item 7\n",
       "\\item 424\n",
       "\\item 536\n",
       "\\item 1202\n",
       "\\item 1184\n",
       "\\end{enumerate*}\n",
       "\n",
       "\\end{enumerate}\n"
      ],
      "text/markdown": [
       "1. 1. 916\n",
       "2. 1042\n",
       "3. 1006\n",
       "4. 474\n",
       "5. 444\n",
       "6. 1251\n",
       "7. 1201\n",
       "\n",
       "\n",
       "\n",
       "2. 785\n",
       "3. 1. 588\n",
       "2. 911\n",
       "3. 774\n",
       "4. 609\n",
       "5. 1206\n",
       "6. 1201\n",
       "\n",
       "\n",
       "\n",
       "4. 1. 724\n",
       "2. 437\n",
       "3. 427\n",
       "4. 425\n",
       "5. 1200\n",
       "\n",
       "\n",
       "\n",
       "5. 1. 942\n",
       "2. 1061\n",
       "3. 364\n",
       "4. 444\n",
       "5. 132\n",
       "6. 536\n",
       "7. 133\n",
       "8. 1137\n",
       "9. 1057\n",
       "\n",
       "\n",
       "\n",
       "6. 1. 1009\n",
       "2. 267\n",
       "3. 115\n",
       "4. 464\n",
       "5. 353\n",
       "6. 1243\n",
       "7. 8\n",
       "8. 7\n",
       "9. 424\n",
       "10. 536\n",
       "11. 1202\n",
       "12. 1184\n",
       "\n",
       "\n",
       "\n",
       "\n",
       "\n"
      ],
      "text/plain": [
       "[[1]]\n",
       "[1]  916 1042 1006  474  444 1251 1201\n",
       "\n",
       "[[2]]\n",
       "[1] 785\n",
       "\n",
       "[[3]]\n",
       "[1]  588  911  774  609 1206 1201\n",
       "\n",
       "[[4]]\n",
       "[1]  724  437  427  425 1200\n",
       "\n",
       "[[5]]\n",
       "[1]  942 1061  364  444  132  536  133 1137 1057\n",
       "\n",
       "[[6]]\n",
       " [1] 1009  267  115  464  353 1243    8    7  424  536 1202 1184\n"
      ]
     },
     "metadata": {},
     "output_type": "display_data"
    },
    {
     "data": {
      "text/html": [
       "<dl>\n",
       "\t<dt>$`0`</dt>\n",
       "\t\t<dd>0</dd>\n",
       "\t<dt>$`10`</dt>\n",
       "\t\t<dd>1</dd>\n",
       "\t<dt>$`1007`</dt>\n",
       "\t\t<dd>2</dd>\n",
       "\t<dt>$`1009`</dt>\n",
       "\t\t<dd>3</dd>\n",
       "\t<dt>$`1014`</dt>\n",
       "\t\t<dd>4</dd>\n",
       "\t<dt>$`1018`</dt>\n",
       "\t\t<dd>5</dd>\n",
       "</dl>\n"
      ],
      "text/latex": [
       "\\begin{description}\n",
       "\\item[\\$`0`] 0\n",
       "\\item[\\$`10`] 1\n",
       "\\item[\\$`1007`] 2\n",
       "\\item[\\$`1009`] 3\n",
       "\\item[\\$`1014`] 4\n",
       "\\item[\\$`1018`] 5\n",
       "\\end{description}\n"
      ],
      "text/markdown": [
       "$`0`\n",
       ":   0\n",
       "$`10`\n",
       ":   1\n",
       "$`1007`\n",
       ":   2\n",
       "$`1009`\n",
       ":   3\n",
       "$`1014`\n",
       ":   4\n",
       "$`1018`\n",
       ":   5\n",
       "\n",
       "\n"
      ],
      "text/plain": [
       "$`0`\n",
       "[1] 0\n",
       "\n",
       "$`10`\n",
       "[1] 1\n",
       "\n",
       "$`1007`\n",
       "[1] 2\n",
       "\n",
       "$`1009`\n",
       "[1] 3\n",
       "\n",
       "$`1014`\n",
       "[1] 4\n",
       "\n",
       "$`1018`\n",
       "[1] 5\n"
      ]
     },
     "metadata": {},
     "output_type": "display_data"
    }
   ],
   "source": [
    "head(valid_image_array_gen$classes)\n",
    "head(valid_image_array_gen$class_indices)"
   ]
  },
  {
   "cell_type": "code",
   "execution_count": 28,
   "metadata": {
    "button": false,
    "collapsed": true,
    "deletable": true,
    "new_sheet": false,
    "run_control": {
     "read_only": false
    }
   },
   "outputs": [],
   "source": [
    "# number of training samples\n",
    "train_samples <- train_image_array_gen$n\n",
    "# number of validation samples\n",
    "valid_samples <- valid_image_array_gen$n\n",
    "#number of test images to be predicted\n",
    "test_n <- length(test_image_array_gen$filenames)"
   ]
  },
  {
   "cell_type": "code",
   "execution_count": 29,
   "metadata": {
    "button": false,
    "collapsed": false,
    "deletable": true,
    "new_sheet": false,
    "run_control": {
     "read_only": false
    }
   },
   "outputs": [
    {
     "name": "stdout",
     "output_type": "stream",
     "text": [
      " int 2701\n",
      " int 300\n",
      " int 500\n"
     ]
    }
   ],
   "source": [
    "str(train_samples)\n",
    "str(valid_samples)\n",
    "str(test_n)"
   ]
  },
  {
   "cell_type": "markdown",
   "metadata": {
    "button": false,
    "deletable": true,
    "new_sheet": false,
    "run_control": {
     "read_only": false
    }
   },
   "source": [
    "<br />***Using Keras Sequential Model***\n",
    "<br /><br />\n",
    "*The first is the convolutional (Conv2D) layer. It is a set of learnable filters. I choosed to set 32 filters for the two firsts conv2D layers and 64 adn 128 filters for the two last ones respectively. Each filter transforms a part of the image (defined by the kernel size) using the kernel filter. The kernel filter matrix is applied on the whole image. Using 'relu' activation function to add non linearity to the network.\n",
    "<br /><br />\n",
    "The MaxPool2D layer acts as a downsampling filter.These are used to reduce computational cost, and to some extent also reduce overfitting.\n",
    "<br /><br />\n",
    "Using dropout as a regularization method, where a proportion of nodes in the layer are randomly ignored for each training sample, a technique to improve generalization and reduce overfitting\n",
    "<br /><br />\n",
    "Flattening layer to convert the final feature maps into a one single 1D vector.Using sigmoid activation function at the end(output) instead of regular softmax to predicct the net outputs distribution of probability of multi lable classifcation.\n",
    "<br /><br />\n",
    "Using the Binary cross-entropy loss function for multi-label classifications, instead of categorical cross entropy, which is for multi-class classification. The metric function \"accuracy\" is used is to evaluate the performance of the model. This metric function is similar to the loss function, except that the results from the metric evaluation are not used when training the model (only for evaluation).*\n",
    "\n",
    "\n"
   ]
  },
  {
   "cell_type": "code",
   "execution_count": 30,
   "metadata": {
    "button": false,
    "collapsed": true,
    "deletable": true,
    "new_sheet": false,
    "run_control": {
     "read_only": false
    }
   },
   "outputs": [],
   "source": [
    "# initialise model\n",
    "model <- keras_model_sequential()\n",
    "img_width <- 128\n",
    "img_height <- 128\n",
    "target_size <- c(img_width, img_height)\n",
    "\n",
    "# RGB = 3 channels\n",
    "channels <- 3\n",
    "\n",
    "# add layers\n",
    "model %>%\n",
    "  layer_conv_2d(filter = 32, kernel_size = c(3,3), padding = \"same\", input_shape = c(img_width, img_height, channels)) %>%\n",
    "  layer_activation(\"relu\") %>%\n",
    "  layer_batch_normalization() %>%\n",
    "\n",
    "  # Second hidden layer\n",
    "  layer_conv_2d(filter =32, kernel_size = c(3,3), padding = \"same\") %>%\n",
    "  layer_activation_leaky_relu(0.5) %>%\n",
    "  layer_batch_normalization() %>%\n",
    "\n",
    "  # Use max pooling\n",
    "  layer_max_pooling_2d(pool_size = c(4,2)) %>%\n",
    "  layer_dropout(0.5) %>%\n",
    "  \n",
    "###SECOND LAYER\n",
    "  layer_conv_2d(filter = 64, kernel_size = c(4,4), padding = \"same\", input_shape = c(img_width, img_height, channels)) %>%\n",
    "  layer_activation(\"relu\") %>%\n",
    "  layer_batch_normalization() %>%\n",
    "\n",
    "  # Second hidden layer\n",
    "  layer_conv_2d(filter =64, kernel_size = c(4,4), padding = \"same\") %>%\n",
    "  layer_activation_leaky_relu(0.5) %>%\n",
    "  layer_batch_normalization() %>%\n",
    "\n",
    "  # Use max pooling\n",
    "  layer_max_pooling_2d(pool_size = c(2,2)) %>%\n",
    "  layer_dropout(0.5) %>%\n",
    "\n",
    "##THIRD LAYER\n",
    "\n",
    "  layer_conv_2d(filter = 128, kernel_size = c(3,3), padding = \"same\", input_shape = c(img_width, img_height, channels)) %>%\n",
    "  layer_activation(\"relu\") %>%\n",
    "  layer_batch_normalization() %>%\n",
    "\n",
    "  # Second hidden layer\n",
    "  layer_conv_2d(filter =128, kernel_size = c(3,3), padding = \"same\") %>%\n",
    "  layer_activation_leaky_relu(0.5) %>%\n",
    "  layer_batch_normalization() %>%\n",
    "\n",
    "  # Use max pooling\n",
    "  layer_max_pooling_2d(pool_size = c(2,2)) %>%\n",
    "  layer_dropout(0.5) %>%\n",
    "\n",
    "\n",
    "  # Flatten max filtered output into feature vector \n",
    "  # and feed into dense layer\n",
    "  layer_flatten() %>%\n",
    "  layer_dense(1024) %>%\n",
    "  layer_activation(\"relu\") %>%\n",
    "  layer_batch_normalization() %>%\n",
    "  layer_dropout(0.5) %>%\n",
    "\n",
    "  # Outputs from dense layer are projected onto output layer - sigmoid classifier\n",
    "  layer_dense(classes_n) %>% \n",
    "  layer_activation(\"sigmoid\")\n",
    "\n",
    "# compile\n",
    "model %>% compile(\n",
    "  loss = \"binary_crossentropy\",\n",
    "  optimizer = optimizer_rmsprop(lr = 0.0001, decay = 1e-6),\n",
    "  metrics = \"accuracy\"\n",
    ")"
   ]
  },
  {
   "cell_type": "code",
   "execution_count": 31,
   "metadata": {
    "button": false,
    "collapsed": false,
    "deletable": true,
    "new_sheet": false,
    "run_control": {
     "read_only": false
    }
   },
   "outputs": [
    {
     "data": {
      "text/plain": [
       "Model\n",
       "Model: \"sequential\"\n",
       "________________________________________________________________________________\n",
       "Layer (type)                        Output Shape                    Param #     \n",
       "================================================================================\n",
       "conv2d (Conv2D)                     (None, 128, 128, 32)            896         \n",
       "________________________________________________________________________________\n",
       "activation (Activation)             (None, 128, 128, 32)            0           \n",
       "________________________________________________________________________________\n",
       "batch_normalization (BatchNormaliza (None, 128, 128, 32)            128         \n",
       "________________________________________________________________________________\n",
       "conv2d_1 (Conv2D)                   (None, 128, 128, 32)            9248        \n",
       "________________________________________________________________________________\n",
       "leaky_re_lu (LeakyReLU)             (None, 128, 128, 32)            0           \n",
       "________________________________________________________________________________\n",
       "batch_normalization_1 (BatchNormali (None, 128, 128, 32)            128         \n",
       "________________________________________________________________________________\n",
       "max_pooling2d (MaxPooling2D)        (None, 32, 64, 32)              0           \n",
       "________________________________________________________________________________\n",
       "dropout (Dropout)                   (None, 32, 64, 32)              0           \n",
       "________________________________________________________________________________\n",
       "conv2d_2 (Conv2D)                   (None, 32, 64, 64)              32832       \n",
       "________________________________________________________________________________\n",
       "activation_1 (Activation)           (None, 32, 64, 64)              0           \n",
       "________________________________________________________________________________\n",
       "batch_normalization_2 (BatchNormali (None, 32, 64, 64)              256         \n",
       "________________________________________________________________________________\n",
       "conv2d_3 (Conv2D)                   (None, 32, 64, 64)              65600       \n",
       "________________________________________________________________________________\n",
       "leaky_re_lu_1 (LeakyReLU)           (None, 32, 64, 64)              0           \n",
       "________________________________________________________________________________\n",
       "batch_normalization_3 (BatchNormali (None, 32, 64, 64)              256         \n",
       "________________________________________________________________________________\n",
       "max_pooling2d_1 (MaxPooling2D)      (None, 16, 32, 64)              0           \n",
       "________________________________________________________________________________\n",
       "dropout_1 (Dropout)                 (None, 16, 32, 64)              0           \n",
       "________________________________________________________________________________\n",
       "conv2d_4 (Conv2D)                   (None, 16, 32, 128)             73856       \n",
       "________________________________________________________________________________\n",
       "activation_2 (Activation)           (None, 16, 32, 128)             0           \n",
       "________________________________________________________________________________\n",
       "batch_normalization_4 (BatchNormali (None, 16, 32, 128)             512         \n",
       "________________________________________________________________________________\n",
       "conv2d_5 (Conv2D)                   (None, 16, 32, 128)             147584      \n",
       "________________________________________________________________________________\n",
       "leaky_re_lu_2 (LeakyReLU)           (None, 16, 32, 128)             0           \n",
       "________________________________________________________________________________\n",
       "batch_normalization_5 (BatchNormali (None, 16, 32, 128)             512         \n",
       "________________________________________________________________________________\n",
       "max_pooling2d_2 (MaxPooling2D)      (None, 8, 16, 128)              0           \n",
       "________________________________________________________________________________\n",
       "dropout_2 (Dropout)                 (None, 8, 16, 128)              0           \n",
       "________________________________________________________________________________\n",
       "flatten (Flatten)                   (None, 16384)                   0           \n",
       "________________________________________________________________________________\n",
       "dense (Dense)                       (None, 1024)                    16778240    \n",
       "________________________________________________________________________________\n",
       "activation_3 (Activation)           (None, 1024)                    0           \n",
       "________________________________________________________________________________\n",
       "batch_normalization_6 (BatchNormali (None, 1024)                    4096        \n",
       "________________________________________________________________________________\n",
       "dropout_3 (Dropout)                 (None, 1024)                    0           \n",
       "________________________________________________________________________________\n",
       "dense_1 (Dense)                     (None, 1266)                    1297650     \n",
       "________________________________________________________________________________\n",
       "activation_4 (Activation)           (None, 1266)                    0           \n",
       "================================================================================\n",
       "Total params: 18,411,794\n",
       "Trainable params: 18,408,850\n",
       "Non-trainable params: 2,944\n",
       "________________________________________________________________________________\n",
       "\n"
      ]
     },
     "metadata": {},
     "output_type": "display_data"
    }
   ],
   "source": [
    "model"
   ]
  },
  {
   "cell_type": "markdown",
   "metadata": {
    "button": false,
    "deletable": true,
    "new_sheet": false,
    "run_control": {
     "read_only": false
    }
   },
   "source": [
    "***Fitting the model***"
   ]
  },
  {
   "cell_type": "code",
   "execution_count": 33,
   "metadata": {
    "button": false,
    "collapsed": false,
    "deletable": true,
    "new_sheet": false,
    "run_control": {
     "read_only": false
    }
   },
   "outputs": [
    {
     "data": {
      "text/plain": [
       "[1] \"2020-05-04 01:41:32 EDT\""
      ]
     },
     "metadata": {},
     "output_type": "display_data"
    },
    {
     "data": {
      "text/plain": [
       "Time difference of 59.41934 mins"
      ]
     },
     "metadata": {},
     "output_type": "display_data"
    }
   ],
   "source": [
    "#Fit\n",
    "start <- Sys.time()\n",
    "start\n",
    "history <- model %>% fit_generator(\n",
    "  # training data\n",
    "  train_image_array_gen,\n",
    "  # epochs\n",
    "  steps_per_epoch = ceiling(train_samples / batch_size), \n",
    "  epochs = epochs, \n",
    "  \n",
    "  # validation data\n",
    "  validation_data = valid_image_array_gen,\n",
    "  validation_steps = ceiling(valid_samples / batch_size),\n",
    "    callback_model_checkpoint(paste0(\"imet_model1.h5\"), save_best_only = TRUE),\n",
    "  \n",
    "  # print progress\n",
    "  verbose = 2\n",
    ")\n",
    "    \n",
    "Sys.time() - start"
   ]
  },
  {
   "cell_type": "markdown",
   "metadata": {
    "button": false,
    "deletable": true,
    "new_sheet": false,
    "run_control": {
     "read_only": false
    }
   },
   "source": [
    "*Due to some unknown error, the verbose (print progress of each epoch) does not work in R Kernel*"
   ]
  },
  {
   "cell_type": "code",
   "execution_count": 34,
   "metadata": {
    "button": false,
    "collapsed": false,
    "deletable": true,
    "new_sheet": false,
    "run_control": {
     "read_only": false
    }
   },
   "outputs": [
    {
     "data": {
      "image/png": "[encoded data removed]",
      "text/plain": [
       "plot without title"
      ]
     },
     "metadata": {
      "image/png": {
       "height": 420,
       "width": 420
      },
      "text/plain": {
       "height": 420,
       "width": 420
      }
     },
     "output_type": "display_data"
    }
   ],
   "source": [
    "plot(history)"
   ]
  },
  {
   "cell_type": "markdown",
   "metadata": {
    "button": false,
    "deletable": true,
    "new_sheet": false,
    "run_control": {
     "read_only": false
    }
   },
   "source": [
    "*From the above graph, it is clear that the accuracy for validation data has increased significantly with every epoch while the loss has decreased significantly*"
   ]
  },
  {
   "cell_type": "markdown",
   "metadata": {
    "button": false,
    "deletable": true,
    "new_sheet": false,
    "run_control": {
     "read_only": false
    }
   },
   "source": [
    "***Evaluating the model to see the performance of the model***"
   ]
  },
  {
   "cell_type": "code",
   "execution_count": 46,
   "metadata": {
    "button": false,
    "collapsed": false,
    "deletable": true,
    "new_sheet": false,
    "run_control": {
     "read_only": false
    }
   },
   "outputs": [
    {
     "data": {
      "text/html": [
       "<dl>\n",
       "\t<dt>$loss</dt>\n",
       "\t\t<dd>0.278427529682716</dd>\n",
       "\t<dt>$accuracy</dt>\n",
       "\t\t<dd>0.993536114692688</dd>\n",
       "</dl>\n"
      ],
      "text/latex": [
       "\\begin{description}\n",
       "\\item[\\$loss] 0.278427529682716\n",
       "\\item[\\$accuracy] 0.993536114692688\n",
       "\\end{description}\n"
      ],
      "text/markdown": [
       "$loss\n",
       ":   0.278427529682716\n",
       "$accuracy\n",
       ":   0.993536114692688\n",
       "\n",
       "\n"
      ],
      "text/plain": [
       "$loss\n",
       "[1] 0.2784275\n",
       "\n",
       "$accuracy\n",
       "[1] 0.9935361\n"
      ]
     },
     "metadata": {},
     "output_type": "display_data"
    }
   ],
   "source": [
    "model %>% evaluate_generator(valid_image_array_gen,steps=ceiling(valid_samples))"
   ]
  },
  {
   "cell_type": "code",
   "execution_count": 45,
   "metadata": {
    "button": false,
    "collapsed": true,
    "deletable": true,
    "new_sheet": false,
    "run_control": {
     "read_only": false
    }
   },
   "outputs": [],
   "source": [
    "valid_image_array_gen$reset()\n",
    "y_val_predict <- model %>% predict_generator(valid_image_array_gen, steps = ceiling(valid_samples), verbose = 1, callbacks = NULL)\n",
    "y <- as.data.frame(y_val_predict)\n",
    "colnames(y) <- unique(unlist(train_sample_csv$attribute_ids,use.names = FALSE))"
   ]
  },
  {
   "cell_type": "markdown",
   "metadata": {
    "button": false,
    "deletable": true,
    "new_sheet": false,
    "run_control": {
     "read_only": false
    }
   },
   "source": [
    "***Predicting the test images***"
   ]
  },
  {
   "cell_type": "code",
   "execution_count": 86,
   "metadata": {
    "button": false,
    "collapsed": true,
    "deletable": true,
    "new_sheet": false,
    "run_control": {
     "read_only": false
    }
   },
   "outputs": [],
   "source": [
    "test_image_array_gen$reset()\n",
    "y_predict <- model %>% predict_generator(test_image_array_gen, steps = test_n, verbose = 1, callbacks = NULL)"
   ]
  },
  {
   "cell_type": "code",
   "execution_count": 87,
   "metadata": {
    "button": false,
    "collapsed": true,
    "deletable": true,
    "new_sheet": false,
    "run_control": {
     "read_only": false
    }
   },
   "outputs": [],
   "source": [
    "y_test <- as.data.frame(y_predict)\n",
    "colnames(y_test) <- unique(unlist(test_sample_csv$attribute_ids,use.names = FALSE))"
   ]
  },
  {
   "cell_type": "code",
   "execution_count": 88,
   "metadata": {
    "button": false,
    "collapsed": false,
    "deletable": true,
    "new_sheet": false,
    "run_control": {
     "read_only": false
    }
   },
   "outputs": [
    {
     "data": {
      "text/html": [
       "<table>\n",
       "<caption>A data.frame: 6 × 2</caption>\n",
       "<thead>\n",
       "\t<tr><th></th><th scope=col>id</th><th scope=col>labels</th></tr>\n",
       "\t<tr><th></th><th scope=col>&lt;fct&gt;</th><th scope=col>&lt;fct&gt;</th></tr>\n",
       "</thead>\n",
       "<tbody>\n",
       "\t<tr><th scope=row>1</th><td>000bb8d1f7cb3335a562e464749bb6e1.png</td><td>             </td></tr>\n",
       "\t<tr><th scope=row>2</th><td>000bb98f62b3ee4995b64c5363d00fc8.png</td><td>782 783 784  </td></tr>\n",
       "\t<tr><th scope=row>3</th><td>00a791a8e350c93c8bc5132a6e68182b.png</td><td>783          </td></tr>\n",
       "\t<tr><th scope=row>4</th><td>00a7e8100bb59943709873bd7a48c092.png</td><td>2299 23 785  </td></tr>\n",
       "\t<tr><th scope=row>5</th><td>00a81c3617800738acd5bce95ad39008.png</td><td>             </td></tr>\n",
       "\t<tr><th scope=row>6</th><td>00a937ce09eeddb596c21166643779f4.png</td><td>3170 3270 784</td></tr>\n",
       "</tbody>\n",
       "</table>\n"
      ],
      "text/latex": [
       "A data.frame: 6 × 2\n",
       "\\begin{tabular}{r|ll}\n",
       "  & id & labels\\\\\n",
       "  & <fct> & <fct>\\\\\n",
       "\\hline\n",
       "\t1 & 000bb8d1f7cb3335a562e464749bb6e1.png &              \\\\\n",
       "\t2 & 000bb98f62b3ee4995b64c5363d00fc8.png & 782 783 784  \\\\\n",
       "\t3 & 00a791a8e350c93c8bc5132a6e68182b.png & 783          \\\\\n",
       "\t4 & 00a7e8100bb59943709873bd7a48c092.png & 2299 23 785  \\\\\n",
       "\t5 & 00a81c3617800738acd5bce95ad39008.png &              \\\\\n",
       "\t6 & 00a937ce09eeddb596c21166643779f4.png & 3170 3270 784\\\\\n",
       "\\end{tabular}\n"
      ],
      "text/markdown": [
       "\n",
       "A data.frame: 6 × 2\n",
       "\n",
       "| <!--/--> | id &lt;fct&gt; | labels &lt;fct&gt; |\n",
       "|---|---|---|\n",
       "| 1 | 000bb8d1f7cb3335a562e464749bb6e1.png | <!----> |\n",
       "| 2 | 000bb98f62b3ee4995b64c5363d00fc8.png | 782 783 784   |\n",
       "| 3 | 00a791a8e350c93c8bc5132a6e68182b.png | 783           |\n",
       "| 4 | 00a7e8100bb59943709873bd7a48c092.png | 2299 23 785   |\n",
       "| 5 | 00a81c3617800738acd5bce95ad39008.png | <!----> |\n",
       "| 6 | 00a937ce09eeddb596c21166643779f4.png | 3170 3270 784 |\n",
       "\n"
      ],
      "text/plain": [
       "  id                                   labels       \n",
       "1 000bb8d1f7cb3335a562e464749bb6e1.png              \n",
       "2 000bb98f62b3ee4995b64c5363d00fc8.png 782 783 784  \n",
       "3 00a791a8e350c93c8bc5132a6e68182b.png 783          \n",
       "4 00a7e8100bb59943709873bd7a48c092.png 2299 23 785  \n",
       "5 00a81c3617800738acd5bce95ad39008.png              \n",
       "6 00a937ce09eeddb596c21166643779f4.png 3170 3270 784"
      ]
     },
     "metadata": {},
     "output_type": "display_data"
    }
   ],
   "source": [
    "filenames = test_image_array_gen$filenames\n",
    "submissions <- data.frame('id' = filenames, 'labels' = y_test)\n",
    "# save the file\n",
    "write.csv(submissions, \"submission.csv\", sep = \" \", row.names = FALSE)\n",
    "submission <- read.csv(\"submission.csv\")\n",
    "head(submission)"
   ]
  }
 ],
 "metadata": {
  "kernelspec": {
   "display_name": "R",
   "language": "R",
   "name": "ir"
  },
  "language_info": {
   "codemirror_mode": "r",
   "file_extension": ".r",
   "mimetype": "text/x-r-source",
   "name": "R",
   "pygments_lexer": "r",
   "version": "3.6.1"
  }
 },
 "nbformat": 4,
 "nbformat_minor": 4
}
